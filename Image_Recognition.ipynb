{
  "nbformat": 4,
  "nbformat_minor": 0,
  "metadata": {
    "colab": {
      "provenance": []
    },
    "kernelspec": {
      "name": "python3",
      "display_name": "Python 3"
    },
    "language_info": {
      "name": "python"
    }
  },
  "cells": [
    {
      "cell_type": "markdown",
      "source": [
        "#SYED MUHAMMAD HUZAIFA\n",
        "\n",
        "E-MAIL: iamhuzaifa811@gmail.com\n"
      ],
      "metadata": {
        "id": "Hf2kRJOPtuKk"
      }
    },
    {
      "cell_type": "markdown",
      "source": [
        "#Train an Convolutional Neural Network (CNN) on Fashion MNIST datase."
      ],
      "metadata": {
        "id": "y3n5XDGztyml"
      }
    },
    {
      "cell_type": "code",
      "execution_count": null,
      "metadata": {
        "id": "XNbDtRbKtkl6"
      },
      "outputs": [],
      "source": [
        "#@markdown #**IMPORTING NECESSARY LIBRARIES**\n",
        "###1. Load Data and Splot Data\n",
        "\n",
        "from tensorflow.keras.datasets import fashion_mnist\n",
        "from tensorflow.keras.models import Sequential\n",
        "from tensorflow.keras.layers import Dense\n",
        "from tensorflow.keras.utils import to_categorical\n",
        "\n",
        "import numpy as np\n",
        "import pandas as pd\n",
        "import keras\n",
        "import tensorflow as tf"
      ]
    },
    {
      "cell_type": "code",
      "source": [
        "#@markdown #**Checking Available Devices**\n",
        "\n",
        "import tensorflow as tf\n",
        "from tensorflow.python.client import device_lib\n",
        "print(device_lib.list_local_devices())"
      ],
      "metadata": {
        "id": "aBR67-jdt9AC"
      },
      "execution_count": null,
      "outputs": []
    },
    {
      "cell_type": "code",
      "source": [
        "#@markdown ##**Spliting the data into x_train, y_train, x_test and y_test**\n",
        "# splitting the data into test and train set\n",
        "(X_train, Y_train), (X_test, Y_test) = fashion_mnist.load_data()\n"
      ],
      "metadata": {
        "id": "fdVUmD9uuAPZ"
      },
      "execution_count": null,
      "outputs": []
    },
    {
      "cell_type": "code",
      "source": [
        "#@markdown ##**Displaying the sample images from x_train**\n",
        "import matplotlib.pyplot as plt\n",
        "\n",
        "# Number of digits to display\n",
        "n = 10\n",
        "\n",
        "# Create a figure to display the images\n",
        "plt.figure(figsize=(20, 4))\n",
        "\n",
        "# Loop through the first 'n' images\n",
        "for i in range(n):\n",
        "    # Create a subplot within the figure\n",
        "    ax = plt.subplot(2, n, i + 1)\n",
        "\n",
        "    # Display the original image\n",
        "    plt.imshow(X_test[i].reshape(28, 28))\n",
        "\n",
        "    # Set colormap to grayscale\n",
        "    plt.gray()\n",
        "\n",
        "    # Hide x-axis and y-axis labels and ticks\n",
        "    ax.get_xaxis().set_visible(False)\n",
        "    ax.get_yaxis().set_visible(False)\n",
        "\n",
        "# Show the figure with the images\n",
        "plt.show()\n",
        "\n",
        "# Close the figure\n",
        "plt.close()\n"
      ],
      "metadata": {
        "id": "sSHsZ9wpuEBe"
      },
      "execution_count": null,
      "outputs": []
    },
    {
      "cell_type": "code",
      "source": [
        "#@markdown ##**Displaying the shape of x_train and y_train**\n",
        "\n",
        "print(X_train.shape)\n",
        "print(Y_train.shape)\n",
        "\n"
      ],
      "metadata": {
        "id": "m5Dn-PMauID9"
      },
      "execution_count": null,
      "outputs": []
    },
    {
      "cell_type": "code",
      "source": [
        "#@markdown ##**Reshaping the images from 28,28,1 -dimension vector**\n",
        "\n",
        "# Reshape training and testing data to a flat format (flattening the images)\n",
        "X_train = X_train.reshape(X_train.shape[0],28,28,1)\n",
        "X_test = X_test.reshape(X_test.shape[0],28,28,1)\n"
      ],
      "metadata": {
        "id": "iuMdqjlOuQRC"
      },
      "execution_count": null,
      "outputs": []
    },
    {
      "cell_type": "code",
      "source": [
        "#@markdown ##**Converting the data into float 32 type**\n",
        "# Convert the data type of the images to float32\n",
        "X_train = X_train.astype('float32')\n",
        "X_test = X_test.astype('float32')\n"
      ],
      "metadata": {
        "id": "RvQrqX__uRLi"
      },
      "execution_count": null,
      "outputs": []
    },
    {
      "cell_type": "code",
      "source": [
        "#@markdown ##**Scalling the data by dividing x_train and y_train by 255**\n",
        "\n",
        "# Normalize the pixel values to a range between 0 and 1  # Zero is for Black  #1 for White\n",
        "X_train /= 255\n",
        "X_test /= 255"
      ],
      "metadata": {
        "id": "_mRdcMnOuUmL"
      },
      "execution_count": null,
      "outputs": []
    },
    {
      "cell_type": "code",
      "source": [
        "#@markdown ##**Displaying the shape of x_train and y_train after scaling**\n",
        "# Number of classes in the dataset\n",
        "classes = 10\n",
        "# Convert the labels to one-hot encoded format\n",
        "Y_train = to_categorical(Y_train, classes)\n",
        "Y_test = to_categorical(Y_test, classes)\n",
        "\n",
        "# Print the shapes of the preprocessed training data and labels\n",
        "print(\"New X_train shape: {} \\nNew Y_train shape:{}\".format(X_train.shape, Y_train.shape))"
      ],
      "metadata": {
        "id": "tkEm5qaguXFA"
      },
      "execution_count": null,
      "outputs": []
    },
    {
      "cell_type": "code",
      "source": [
        "from keras.models import Sequential\n",
        "from keras.layers.core import Dense ,Flatten\n",
        "from keras.layers.convolutional import Conv2D, MaxPooling2D"
      ],
      "metadata": {
        "id": "zzwIkfH7ubCh"
      },
      "execution_count": null,
      "outputs": []
    },
    {
      "cell_type": "code",
      "source": [
        "#@markdown **SETTING UP HYPER-PARAMETERS**\n",
        "#  #@param {type:\"string\"}\n",
        "# Define the input size for each data sample (e.g., image pixels)\n",
        "img_rows, img_cols, channels = 28, 28, 1 #@param\n",
        "\n",
        "# input_size = 28,28,1 #@param\n",
        "\n",
        "filters = [6, 32, 80 ,120,180,240] #@param\n",
        "\n",
        "# Specify the number of data samples to process in each batch\n",
        "batch_size = 64 #@param\n",
        "\n",
        "# Define the number of neurons in the first hidden layer\n",
        "hidden1 = 64 #@param\n",
        "\n",
        "# Define the number of neurons in the second hidden layer\n",
        "hidden2 = 0 #@param\n",
        "\n",
        "\n",
        "# Define the total number of classes/categories in the dataset\n",
        "classes = 10 #@param\n",
        "\n",
        "# Set the number of complete passes through the dataset during training\n",
        "epochs = 15 #@param\n",
        "'''"
      ],
      "metadata": {
        "id": "v4FlWNNTufMA"
      },
      "execution_count": null,
      "outputs": []
    },
    {
      "cell_type": "code",
      "source": [
        "#@markdown **STRUCTURE OF MY NEURAL NETWORK**\n",
        "### 4. Build the model ###\n",
        "\n",
        "# Create a Sequential model, which allows us to build a neural network layer by layer\n",
        "model = Sequential()\n",
        "\n",
        "model.add(Conv2D(filters[0],(3,3),padding='same',\\\n",
        "                 activation='relu',input_shape=(img_rows,img_cols, channels)))\n",
        "model.add(MaxPooling2D(pool_size=(2,2))) #For reducing image size\n",
        "# (dim+pad-kernel)/2   (28 +3 -3)/2 = 14\n",
        "model.add(Conv2D(filters[1],(3,3),padding='same', activation='relu'))\n",
        "model.add(MaxPooling2D(pool_size=(2,2)))\n",
        "# (dim+pad-kernel)/2   (14 +2 -2)/2 = 7\n",
        "model.add(Conv2D(filters[2],(3,3),padding='same', activation='relu'))\n",
        "model.add(MaxPooling2D(pool_size=(2,2)))\n",
        "# (dim+pad-kernel)/2   (7 +2 -2)/2 = 3\n",
        "model.add(Conv2D(filters[3],(2,2),padding='same', activation='relu'))\n",
        "model.add(MaxPooling2D(pool_size=(1,1)))\n",
        "\n",
        "model.add(Conv2D(filters[4],(2,2),padding='same', activation='relu'))\n",
        "model.add(MaxPooling2D(pool_size=(1,1)))\n",
        "\n",
        "model.add(Conv2D(filters[5],(2,2),padding='same', activation='relu'))\n",
        "model.add(MaxPooling2D(pool_size=(1,1)))\n",
        "\n",
        "# (dim+pad-kernel)/2   (3 +2 -2)/2 = 1\n",
        "model.add(Flatten())\n",
        "\n",
        "\n",
        "model.add(Flatten())\n",
        "model.add(Dense(hidden1, activation='relu'))\n",
        "\n",
        "model.add(Dense(classes, activation='softmax'))\n",
        "\n",
        "model.compile(loss='categorical_crossentropy',\n",
        "              metrics=['accuracy'], optimizer='sgd')\n"
      ],
      "metadata": {
        "id": "3OmNgX8culrg"
      },
      "execution_count": null,
      "outputs": []
    },
    {
      "cell_type": "code",
      "source": [
        "#@markdown #*model.summary**\n",
        "\n",
        "# Display a summary of the model architecture, showing the layers and parameter counts\n",
        "model.summary()"
      ],
      "metadata": {
        "id": "3DuJ4VPpuqm3"
      },
      "execution_count": null,
      "outputs": []
    },
    {
      "cell_type": "code",
      "source": [
        "#@markdown #**Training The Model**\n",
        "# Import necessary libraries\n",
        "from time import time\n",
        "\n",
        "# Record the current time to measure training time\n",
        "tic = time()\n",
        "\n",
        "# Fit the model on the training data\n",
        "model.fit(X_train, Y_train, validation_split= 0.2, batch_size=batch_size, epochs=epochs, verbose=1)\n",
        "\n",
        "# Record the time after model training\n",
        "toc = time()\n",
        "\n",
        "# Calculate and print the time taken for model training\n",
        "print(\"Model training took {} secs\".format(toc - tic))\n"
      ],
      "metadata": {
        "id": "OcuYX8bouuLQ"
      },
      "execution_count": null,
      "outputs": []
    },
    {
      "cell_type": "code",
      "source": [
        "#@markdown ##**Testing accuracy of the model**\n",
        "# Import the necessary libraries\n",
        "from sklearn.metrics import accuracy_score\n",
        "import numpy as np\n",
        "import matplotlib.pyplot as plt\n",
        "\n",
        "# Predict probabilities for the test set using the trained model\n",
        "y_pred_probs = model.predict(X_test, verbose=0)\n",
        "y_pred = np.where(y_pred_probs > 0.5, 1, 0)\n",
        "\n",
        "# Calculate and print the test accuracy using predicted and true labels\n",
        "test_accuracy = accuracy_score(y_pred, Y_test)\n",
        "print(\"\\nTest accuracy: {}\".format(test_accuracy))"
      ],
      "metadata": {
        "id": "Rk014-cFuzo3"
      },
      "execution_count": null,
      "outputs": []
    },
    {
      "cell_type": "code",
      "source": [
        "#@markdown #**Display the predicted labels along the input image**\n",
        "# Define a mask for selecting a range of indices (20 to 49)\n",
        "mask = range(20, 50)\n",
        "\n",
        "# Select the first 20 samples from the test set for visualization\n",
        "X_valid = X_test[20:40]\n",
        "actual_labels = Y_test[20:40]\n",
        "\n",
        "# Predict probabilities for the selected validation samples\n",
        "y_pred_probs_valid = model.predict(X_valid)\n",
        "y_pred_valid = np.where(y_pred_probs_valid > 0.5, 1, 0)\n",
        "\n",
        "\n",
        "# Set up a figure to display images\n",
        "n = len(X_valid)\n",
        "plt.figure(figsize=(20, 4))\n",
        "\n",
        "for i in range(n):\n",
        "    # Display the original image\n",
        "    ax = plt.subplot(2, n, i + 1)\n",
        "    plt.imshow(X_valid[i].reshape(28, 28))\n",
        "    plt.gray()\n",
        "    ax.get_xaxis().set_visible(False)\n",
        "    ax.get_yaxis().set_visible(False)\n",
        "\n",
        "    # Display the predicted digit\n",
        "    predicted_digit = np.argmax(y_pred_probs_valid[i])\n",
        "    ax = plt.subplot(2, n, i + 1 + n)\n",
        "    plt.text(0.5, 0.5, str(predicted_digit), fontsize=12, ha='center', va='center')\n",
        "    plt.axis('off')\n",
        "\n",
        "# Show the plotted images\n",
        "plt.show()\n",
        "\n",
        "# Close the plot\n",
        "plt.close()\n"
      ],
      "metadata": {
        "id": "T-nioSGLu4qf"
      },
      "execution_count": null,
      "outputs": []
    },
    {
      "cell_type": "code",
      "source": [
        "#@markdown #**Display the predicted labels along the input image**\n",
        "def convert_to_class_label(prediction):\n",
        "    class_labels = [\n",
        "        \"T-shirt/top\",\n",
        "        \"Trouser\",\n",
        "        \"Pullover\",\n",
        "        \"Dress\",\n",
        "        \"Coat\",\n",
        "        \"Sandal\",\n",
        "        \"Shirt\",\n",
        "        \"Sneaker\",\n",
        "        \"Bag\",\n",
        "        \"Ankle boot\"\n",
        "    ]\n",
        "\n",
        "    return class_labels[prediction]\n",
        "\n",
        "# Set up a figure to display images\n",
        "n = len(X_valid)\n",
        "plt.figure(figsize=(20, 4))\n",
        "\n",
        "for i in range(n):\n",
        "    # Display the original image\n",
        "    ax = plt.subplot(2, n, i + 1)\n",
        "    plt.imshow(X_valid[i].reshape(28, 28))\n",
        "    plt.gray()\n",
        "    ax.get_xaxis().set_visible(False)\n",
        "    ax.get_yaxis().set_visible(False)\n",
        "\n",
        "    # Display the predicted class label\n",
        "    predicted_class = np.argmax(y_pred_probs_valid[i])\n",
        "    predicted_label = convert_to_class_label(predicted_class)\n",
        "\n",
        "    ax = plt.subplot(2, n, i + 1 + n)\n",
        "    plt.text(0.5, 0.5, predicted_label, fontsize=12, ha='center', va='center')\n",
        "    plt.axis('off')\n",
        "\n",
        "# Show the plotted images\n",
        "plt.show()\n"
      ],
      "metadata": {
        "id": "g1te2p7Cu9XH"
      },
      "execution_count": null,
      "outputs": []
    },
    {
      "cell_type": "code",
      "source": [
        "#@markdown **Saving Model**\n",
        "import tensorflow as tf\n",
        "\n",
        "#  'model' is your trained Keras model\n",
        "tf.saved_model.save(model, 'Outfit Classification Model')"
      ],
      "metadata": {
        "id": "ckHgU3ffvCIi"
      },
      "execution_count": null,
      "outputs": []
    }
  ]
}